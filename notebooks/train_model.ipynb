{
  "cells": [
    {
      "cell_type": "markdown",
      "metadata": {},
      "source": [
        "# Spam Classification Model Training\n",
        "\n",
        "This notebook demonstrates the training of a DistilBERT model for spam classification using the real spam-ham dataset.\n",
        "\n",
        "## Overview\n",
        "- Load and preprocess spam-ham dataset\n",
        "- Fine-tune DistilBERT for binary classification\n",
        "- Evaluate model performance\n",
        "- Save the trained model using Hugging Face's save_pretrained method"
      ]
    },
    {
      "cell_type": "code",
      "execution_count": 1,
      "metadata": {},
      "outputs": [
        {
          "name": "stderr",
          "output_type": "stream",
          "text": [
            "c:\\Users\\YEH\\anaconda3\\envs\\myenv\\lib\\site-packages\\transformers\\utils\\generic.py:441: FutureWarning: `torch.utils._pytree._register_pytree_node` is deprecated. Please use `torch.utils._pytree.register_pytree_node` instead.\n",
            "  _torch_pytree._register_pytree_node(\n",
            "c:\\Users\\YEH\\anaconda3\\envs\\myenv\\lib\\site-packages\\transformers\\utils\\generic.py:309: FutureWarning: `torch.utils._pytree._register_pytree_node` is deprecated. Please use `torch.utils._pytree.register_pytree_node` instead.\n",
            "  _torch_pytree._register_pytree_node(\n",
            "c:\\Users\\YEH\\anaconda3\\envs\\myenv\\lib\\site-packages\\transformers\\utils\\generic.py:309: FutureWarning: `torch.utils._pytree._register_pytree_node` is deprecated. Please use `torch.utils._pytree.register_pytree_node` instead.\n",
            "  _torch_pytree._register_pytree_node(\n"
          ]
        }
      ],
      "source": [
        "# Import required libraries\n",
        "import sys\n",
        "import os\n",
        "sys.path.append(os.path.join(os.path.dirname('.'), '..', 'scripts'))\n",
        "\n",
        "import pandas as pd\n",
        "import numpy as np\n",
        "import torch\n",
        "from torch.utils.data import Dataset, DataLoader\n",
        "from transformers import (\n",
        "    DistilBertTokenizer, \n",
        "    DistilBertForSequenceClassification,\n",
        "    AdamW,\n",
        "    get_linear_schedule_with_warmup\n",
        ")\n",
        "from sklearn.model_selection import train_test_split\n",
        "from sklearn.preprocessing import LabelEncoder\n",
        "from sklearn.metrics import classification_report, confusion_matrix, accuracy_score\n",
        "import joblib\n",
        "import matplotlib.pyplot as plt\n",
        "import seaborn as sns\n",
        "from typing import Tuple, List\n",
        "import warnings\n",
        "warnings.filterwarnings('ignore')\n",
        "\n",
        "# Import training functions from our script\n",
        "from train_model import (\n",
        "    SpamDataset, \n",
        "    load_or_create_dataset, \n",
        "    preprocess_data, \n",
        "    train_model, \n",
        "    evaluate_model, \n",
        "    save_model\n",
        ")"
      ]
    },
    {
      "cell_type": "code",
      "execution_count": 2,
      "metadata": {},
      "outputs": [
        {
          "name": "stdout",
          "output_type": "stream",
          "text": [
            "GPU Available: True\n",
            "Number of GPUs: 1\n",
            "\n",
            "GPU 0: NVIDIA GeForce RTX 3060 Laptop GPU\n",
            "  Total Memory: 6.00 GB\n",
            "  Reserved Memory: 0.00 GB\n",
            "  Allocated Memory: 0.00 GB\n",
            "  Free Memory: 0.00 GB\n"
          ]
        }
      ],
      "source": [
        "\n",
        "def check_gpu_status():\n",
        "    gpu_available = torch.cuda.is_available()\n",
        "    gpu_count = torch.cuda.device_count()\n",
        "\n",
        "    print(f\"GPU Available: {gpu_available}\")\n",
        "    print(f\"Number of GPUs: {gpu_count}\")\n",
        "\n",
        "    if gpu_available:\n",
        "        for gpu in range(gpu_count):\n",
        "            device_name = torch.cuda.get_device_name(gpu)\n",
        "            total_memory = torch.cuda.get_device_properties(gpu).total_memory / (1024 ** 3)  # Convert bytes to GB\n",
        "            reserved_memory = torch.cuda.memory_reserved(gpu) / (1024 ** 3)\n",
        "            allocated_memory = torch.cuda.memory_allocated(gpu) / (1024 ** 3)\n",
        "            free_memory = reserved_memory - allocated_memory\n",
        "\n",
        "            print(f\"\\nGPU {gpu}: {device_name}\")\n",
        "            print(f\"  Total Memory: {total_memory:.2f} GB\")\n",
        "            print(f\"  Reserved Memory: {reserved_memory:.2f} GB\")\n",
        "            print(f\"  Allocated Memory: {allocated_memory:.2f} GB\")\n",
        "            print(f\"  Free Memory: {free_memory:.2f} GB\")\n",
        "\n",
        "if __name__ == \"__main__\":\n",
        "    check_gpu_status()"
      ]
    },
    {
      "cell_type": "markdown",
      "metadata": {},
      "source": [
        "## 1. Data Loading and Exploration"
      ]
    },
    {
      "cell_type": "code",
      "execution_count": 3,
      "metadata": {},
      "outputs": [
        {
          "name": "stderr",
          "output_type": "stream",
          "text": [
            "2025-07-04 21:29:36,845 - INFO - Loading spam-ham dataset from data/spam_ham_dataset.csv ...\n",
            "2025-07-04 21:29:36,909 - INFO - Loaded dataset with 5171 samples. Class distribution:\n",
            "label\n",
            "ham     3672\n",
            "spam    1499\n",
            "Name: count, dtype: int64\n"
          ]
        },
        {
          "name": "stdout",
          "output_type": "stream",
          "text": [
            "Dataset shape: (5171, 2)\n",
            "\n",
            "Class distribution:\n",
            "label\n",
            "ham     3672\n",
            "spam    1499\n",
            "Name: count, dtype: int64\n",
            "\n",
            "Sample data:\n",
            "                                                text label\n",
            "0  Subject: enron methanol ; meter # : 988291\\r\\n...   ham\n",
            "1  Subject: hpl nom for january 9 , 2001\\r\\n( see...   ham\n",
            "2  Subject: neon retreat\\r\\nho ho ho , we ' re ar...   ham\n",
            "3  Subject: photoshop , windows , office . cheap ...  spam\n",
            "4  Subject: re : indian springs\\r\\nthis deal is t...   ham\n",
            "5  Subject: ehronline web address change\\r\\nthis ...   ham\n",
            "6  Subject: spring savings certificate - take 30 ...   ham\n",
            "7  Subject: looking for medication ? we ` re the ...  spam\n",
            "8  Subject: noms / actual flow for 2 / 26\\r\\nwe a...   ham\n",
            "9  Subject: nominations for oct . 21 - 23 , 2000\\...   ham\n"
          ]
        }
      ],
      "source": [
        "# Load the real spam-ham dataset\n",
        "df = load_or_create_dataset()\n",
        "print(f\"Dataset shape: {df.shape}\")\n",
        "print(f\"\\nClass distribution:\")\n",
        "print(df['label'].value_counts())\n",
        "\n",
        "# Display sample data\n",
        "print(f\"\\nSample data:\")\n",
        "print(df.head(10))"
      ]
    },
    {
      "cell_type": "code",
      "execution_count": 4,
      "metadata": {},
      "outputs": [
        {
          "data": {
            "image/png": "[encoded data removed]",
            "text/plain": [
              "<Figure size 1000x600 with 2 Axes>"
            ]
          },
          "metadata": {},
          "output_type": "display_data"
        }
      ],
      "source": [
        "# Visualize class distribution\n",
        "plt.figure(figsize=(10, 6))\n",
        "\n",
        "plt.subplot(1, 2, 1)\n",
        "df['label'].value_counts().plot(kind='bar')\n",
        "plt.title('Class Distribution')\n",
        "plt.xlabel('Class')\n",
        "plt.ylabel('Count')\n",
        "\n",
        "plt.subplot(1, 2, 2)\n",
        "df['label'].value_counts().plot(kind='pie', autopct='%1.1f%%')\n",
        "plt.title('Class Distribution (%)')\n",
        "\n",
        "plt.tight_layout()\n",
        "plt.show()"
      ]
    },
    {
      "cell_type": "code",
      "execution_count": 5,
      "metadata": {},
      "outputs": [
        {
          "data": {
            "image/png": "[encoded data removed]",
            "text/plain": [
              "<Figure size 1200x400 with 2 Axes>"
            ]
          },
          "metadata": {},
          "output_type": "display_data"
        },
        {
          "data": {
            "image/png": "[encoded data removed]",
            "text/plain": [
              "<Figure size 640x480 with 1 Axes>"
            ]
          },
          "metadata": {},
          "output_type": "display_data"
        },
        {
          "name": "stdout",
          "output_type": "stream",
          "text": [
            "Text length statistics:\n",
            "count     5171.000000\n",
            "mean      1048.391994\n",
            "std       1528.513435\n",
            "min         11.000000\n",
            "25%        244.000000\n",
            "50%        540.000000\n",
            "75%       1237.000000\n",
            "max      32258.000000\n",
            "Name: text_length, dtype: float64\n"
          ]
        }
      ],
      "source": [
        "# Analyze text length distribution\n",
        "df['text_length'] = df['text'].str.len()\n",
        "\n",
        "plt.figure(figsize=(12, 4))\n",
        "\n",
        "plt.subplot(1, 2, 1)\n",
        "df['text_length'].hist(bins=30)\n",
        "plt.title('Text Length Distribution')\n",
        "plt.xlabel('Text Length')\n",
        "plt.ylabel('Frequency')\n",
        "\n",
        "plt.subplot(1, 2, 2)\n",
        "df.boxplot(column='text_length', by='label')\n",
        "plt.title('Text Length by Class')\n",
        "plt.suptitle('')\n",
        "\n",
        "plt.tight_layout()\n",
        "plt.show()\n",
        "\n",
        "print(f\"Text length statistics:\")\n",
        "print(df['text_length'].describe())"
      ]
    },
    {
      "cell_type": "markdown",
      "metadata": {},
      "source": [
        "## 2. Data Preprocessing"
      ]
    },
    {
      "cell_type": "code",
      "execution_count": 6,
      "metadata": {},
      "outputs": [
        {
          "name": "stderr",
          "output_type": "stream",
          "text": [
            "2025-07-04 21:29:37,812 - INFO - Preprocessing data...\n",
            "2025-07-04 21:29:37,819 - INFO - Label mapping: {'ham': 0, 'spam': 1}\n"
          ]
        },
        {
          "name": "stdout",
          "output_type": "stream",
          "text": [
            "Label mapping: {'ham': 0, 'spam': 1}\n",
            "Number of texts: 5171\n",
            "Number of labels: 5171\n"
          ]
        }
      ],
      "source": [
        "# Preprocess data\n",
        "texts, labels, label_encoder = preprocess_data(df)\n",
        "\n",
        "print(f\"Label mapping: {dict(zip(label_encoder.classes_, label_encoder.transform(label_encoder.classes_)))}\")\n",
        "print(f\"Number of texts: {len(texts)}\")\n",
        "print(f\"Number of labels: {len(labels)}\")"
      ]
    },
    {
      "cell_type": "code",
      "execution_count": 7,
      "metadata": {},
      "outputs": [
        {
          "name": "stdout",
          "output_type": "stream",
          "text": [
            "Training samples: 4136\n",
            "Validation samples: 1035\n",
            "\n",
            "Training class distribution:\n",
            "0    2937\n",
            "1    1199\n",
            "Name: count, dtype: int64\n",
            "\n",
            "Validation class distribution:\n",
            "0    735\n",
            "1    300\n",
            "Name: count, dtype: int64\n"
          ]
        }
      ],
      "source": [
        "# Split data into train and validation sets\n",
        "train_texts, val_texts, train_labels, val_labels = train_test_split(\n",
        "    texts, labels, test_size=0.2, random_state=42, stratify=labels\n",
        ")\n",
        "\n",
        "print(f\"Training samples: {len(train_texts)}\")\n",
        "print(f\"Validation samples: {len(val_texts)}\")\n",
        "print(f\"\\nTraining class distribution:\")\n",
        "print(pd.Series(train_labels).value_counts())\n",
        "print(f\"\\nValidation class distribution:\")\n",
        "print(pd.Series(val_labels).value_counts())"
      ]
    },
    {
      "cell_type": "markdown",
      "metadata": {},
      "source": [
        "## 3. Model Setup"
      ]
    },
    {
      "cell_type": "code",
      "execution_count": 8,
      "metadata": {},
      "outputs": [
        {
          "name": "stdout",
          "output_type": "stream",
          "text": [
            "Using device: cuda\n"
          ]
        },
        {
          "name": "stderr",
          "output_type": "stream",
          "text": [
            "Some weights of DistilBertForSequenceClassification were not initialized from the model checkpoint at distilbert-base-uncased and are newly initialized: ['classifier.weight', 'classifier.bias', 'pre_classifier.weight', 'pre_classifier.bias']\n",
            "You should probably TRAIN this model on a down-stream task to be able to use it for predictions and inference.\n"
          ]
        },
        {
          "name": "stdout",
          "output_type": "stream",
          "text": [
            "Model initialized with 2 classes\n",
            "Model parameters: 66,955,010\n"
          ]
        }
      ],
      "source": [
        "# Set device\n",
        "device = torch.device('cuda' if torch.cuda.is_available() else 'cpu')\n",
        "print(f\"Using device: {device}\")\n",
        "\n",
        "# Initialize tokenizer and model\n",
        "model_name = 'distilbert-base-uncased'\n",
        "tokenizer = DistilBertTokenizer.from_pretrained(model_name)\n",
        "model = DistilBertForSequenceClassification.from_pretrained(\n",
        "    model_name,\n",
        "    num_labels=len(label_encoder.classes_)\n",
        ")\n",
        "model.to(device)\n",
        "\n",
        "print(f\"Model initialized with {len(label_encoder.classes_)} classes\")\n",
        "print(f\"Model parameters: {sum(p.numel() for p in model.parameters()):,}\")"
      ]
    },
    {
      "cell_type": "code",
      "execution_count": 9,
      "metadata": {},
      "outputs": [
        {
          "name": "stdout",
          "output_type": "stream",
          "text": [
            "Training batches: 259\n",
            "Validation batches: 65\n"
          ]
        }
      ],
      "source": [
        "# Create datasets and data loaders\n",
        "train_dataset = SpamDataset(train_texts, train_labels, tokenizer)\n",
        "val_dataset = SpamDataset(val_texts, val_labels, tokenizer)\n",
        "\n",
        "train_loader = DataLoader(train_dataset, batch_size=16, shuffle=True)\n",
        "val_loader = DataLoader(val_dataset, batch_size=16, shuffle=False)\n",
        "\n",
        "print(f\"Training batches: {len(train_loader)}\")\n",
        "print(f\"Validation batches: {len(val_loader)}\")"
      ]
    },
    {
      "cell_type": "markdown",
      "metadata": {},
      "source": [
        "## 4. Model Training"
      ]
    },
    {
      "cell_type": "code",
      "execution_count": 10,
      "metadata": {},
      "outputs": [
        {
          "name": "stderr",
          "output_type": "stream",
          "text": [
            "2025-07-04 21:29:40,513 - INFO - Starting model training...\n",
            "2025-07-04 21:29:41,924 - INFO - Epoch 1/5\n",
            "2025-07-04 21:30:23,429 - INFO - Average training loss: 0.1429\n",
            "2025-07-04 21:30:30,408 - INFO - Validation Loss: 0.0504\n",
            "2025-07-04 21:30:30,409 - INFO - Validation Accuracy: 0.9807\n",
            "2025-07-04 21:30:30,410 - INFO - New best accuracy: 0.9807\n",
            "2025-07-04 21:30:30,410 - INFO - Epoch 2/5\n",
            "2025-07-04 21:31:06,712 - INFO - Average training loss: 0.0233\n",
            "2025-07-04 21:31:13,791 - INFO - Validation Loss: 0.0183\n",
            "2025-07-04 21:31:13,793 - INFO - Validation Accuracy: 0.9932\n",
            "2025-07-04 21:31:13,794 - INFO - New best accuracy: 0.9932\n",
            "2025-07-04 21:31:13,795 - INFO - Epoch 3/5\n",
            "2025-07-04 21:31:50,399 - INFO - Average training loss: 0.0069\n",
            "2025-07-04 21:31:57,569 - INFO - Validation Loss: 0.0101\n",
            "2025-07-04 21:31:57,570 - INFO - Validation Accuracy: 0.9932\n",
            "2025-07-04 21:31:57,571 - INFO - Epoch 4/5\n",
            "2025-07-04 21:32:33,950 - INFO - Average training loss: 0.0011\n",
            "2025-07-04 21:32:40,975 - INFO - Validation Loss: 0.0089\n",
            "2025-07-04 21:32:40,977 - INFO - Validation Accuracy: 0.9952\n",
            "2025-07-04 21:32:40,977 - INFO - New best accuracy: 0.9952\n",
            "2025-07-04 21:32:40,978 - INFO - Epoch 5/5\n",
            "2025-07-04 21:33:18,128 - INFO - Average training loss: 0.0003\n",
            "2025-07-04 21:33:25,733 - INFO - Validation Loss: 0.0169\n",
            "2025-07-04 21:33:25,735 - INFO - Validation Accuracy: 0.9913\n"
          ]
        }
      ],
      "source": [
        "# Train the model\n",
        "predictions, true_labels = train_model(model, train_loader, val_loader, device, num_epochs=5)"
      ]
    },
    {
      "cell_type": "markdown",
      "metadata": {},
      "source": [
        "## 5. Model Evaluation"
      ]
    },
    {
      "cell_type": "code",
      "execution_count": 11,
      "metadata": {},
      "outputs": [
        {
          "name": "stderr",
          "output_type": "stream",
          "text": [
            "2025-07-04 21:33:39,225 - INFO - Evaluating model...\n"
          ]
        },
        {
          "name": "stdout",
          "output_type": "stream",
          "text": [
            "\n",
            "Classification Report:\n",
            "              precision    recall  f1-score   support\n",
            "\n",
            "         ham       0.99      1.00      0.99       735\n",
            "        spam       1.00      0.97      0.98       300\n",
            "\n",
            "    accuracy                           0.99      1035\n",
            "   macro avg       0.99      0.98      0.99      1035\n",
            "weighted avg       0.99      0.99      0.99      1035\n",
            "\n",
            "\n",
            "Confusion Matrix:\n",
            "[[735   0]\n",
            " [  9 291]]\n",
            "\n",
            "Overall Accuracy: 0.9913\n"
          ]
        }
      ],
      "source": [
        "# Evaluate model performance\n",
        "evaluate_model(predictions, true_labels, label_encoder)"
      ]
    },
    {
      "cell_type": "code",
      "execution_count": 12,
      "metadata": {},
      "outputs": [
        {
          "data": {
            "image/png": "[encoded data removed]",
            "text/plain": [
              "<Figure size 800x600 with 2 Axes>"
            ]
          },
          "metadata": {},
          "output_type": "display_data"
        }
      ],
      "source": [
        "# Create confusion matrix visualization\n",
        "pred_labels = label_encoder.inverse_transform(predictions)\n",
        "true_labels_decoded = label_encoder.inverse_transform(true_labels)\n",
        "\n",
        "cm = confusion_matrix(true_labels_decoded, pred_labels)\n",
        "\n",
        "plt.figure(figsize=(8, 6))\n",
        "sns.heatmap(cm, annot=True, fmt='d', cmap='Blues', \n",
        "            xticklabels=label_encoder.classes_, \n",
        "            yticklabels=label_encoder.classes_)\n",
        "plt.title('Confusion Matrix')\n",
        "plt.xlabel('Predicted')\n",
        "plt.ylabel('Actual')\n",
        "plt.show()"
      ]
    },
    {
      "cell_type": "markdown",
      "metadata": {},
      "source": [
        "## 6. Model Testing"
      ]
    },
    {
      "cell_type": "code",
      "execution_count": 13,
      "metadata": {},
      "outputs": [
        {
          "name": "stdout",
          "output_type": "stream",
          "text": [
            "Text: Hi Tom, how are you doing?...\n",
            "Prediction: ham\n",
            "Confidence: 0.7471\n",
            "--------------------------------------------------\n",
            "Text: URGENT! You have won a 1 week FREE membership in o...\n",
            "Prediction: spam\n",
            "Confidence: 0.9996\n",
            "--------------------------------------------------\n",
            "Text: I'm gonna be home soon and i don't want to talk ab...\n",
            "Prediction: ham\n",
            "Confidence: 0.9911\n",
            "--------------------------------------------------\n",
            "Text: URGENT! Your Mobile No. was awarded £200 Bonus Cal...\n",
            "Prediction: spam\n",
            "Confidence: 0.9994\n",
            "--------------------------------------------------\n",
            "Text: I HAVE A DATE ON SUNDAY WITH WILL!!...\n",
            "Prediction: ham\n",
            "Confidence: 0.8712\n",
            "--------------------------------------------------\n"
          ]
        }
      ],
      "source": [
        "# Test the model with sample texts\n",
        "test_texts = [\n",
        "    \"Hi Tom, how are you doing?\",\n",
        "    \"URGENT! You have won a 1 week FREE membership in our £100,000 prize Jackpot!\",\n",
        "    \"I'm gonna be home soon and i don't want to talk about this stuff anymore tonight, k?\",\n",
        "    \"URGENT! Your Mobile No. was awarded £200 Bonus Caller Prize on 1/08.\",\n",
        "    \"I HAVE A DATE ON SUNDAY WITH WILL!!\"\n",
        "]\n",
        "\n",
        "model.eval()\n",
        "with torch.no_grad():\n",
        "    for text in test_texts:\n",
        "        inputs = tokenizer(\n",
        "            text,\n",
        "            truncation=True,\n",
        "            padding=True,\n",
        "            max_length=512,\n",
        "            return_tensors=\"pt\"\n",
        "        ).to(device)\n",
        "        \n",
        "        outputs = model(**inputs)\n",
        "        probabilities = torch.softmax(outputs.logits, dim=1)\n",
        "        predicted_class = torch.argmax(probabilities, dim=1).item()\n",
        "        confidence = probabilities[0][predicted_class].item()\n",
        "        \n",
        "        prediction = label_encoder.inverse_transform([predicted_class])[0]\n",
        "        \n",
        "        print(f\"Text: {text[:50]}...\")\n",
        "        print(f\"Prediction: {prediction}\")\n",
        "        print(f\"Confidence: {confidence:.4f}\")\n",
        "        print(\"-\" * 50)"
      ]
    },
    {
      "cell_type": "markdown",
      "metadata": {},
      "source": [
        "## 7. Save Model"
      ]
    },
    {
      "cell_type": "code",
      "execution_count": 14,
      "metadata": {},
      "outputs": [
        {
          "name": "stderr",
          "output_type": "stream",
          "text": [
            "2025-07-04 21:34:00,217 - INFO - Saving model to ..\\models\\spam_classifier\n",
            "2025-07-04 21:34:00,798 - INFO - Model saved successfully using Hugging Face's save_pretrained method!\n"
          ]
        },
        {
          "name": "stdout",
          "output_type": "stream",
          "text": [
            "Model saved to: ..\\models\\spam_classifier\n",
            "Model saved in Hugging Face format with the following files:\n",
            "- config.json (model configuration)\n",
            "- pytorch_model.bin (model weights)\n",
            "- tokenizer.json (tokenizer configuration)\n",
            "- vocab.txt (vocabulary file)\n",
            "- label_encoder.pkl (label encoder)\n"
          ]
        }
      ],
      "source": [
        "# Save the trained model using Hugging Face's save_pretrained method\n",
        "model_path = os.path.join(os.path.dirname('.'), '..', 'models', 'spam_classifier')\n",
        "save_model(model, tokenizer, label_encoder, model_path)\n",
        "\n",
        "print(f\"Model saved to: {model_path}\")\n",
        "print(\"Model saved in Hugging Face format with the following files:\")\n",
        "print(\"- config.json (model configuration)\")\n",
        "print(\"- pytorch_model.bin (model weights)\")\n",
        "print(\"- tokenizer.json (tokenizer configuration)\")\n",
        "print(\"- vocab.txt (vocabulary file)\")\n",
        "print(\"- label_encoder.pkl (label encoder)\")"
      ]
    },
    {
      "cell_type": "markdown",
      "metadata": {},
      "source": [
        "## 8. Model Loading Test"
      ]
    },
    {
      "cell_type": "code",
      "execution_count": 15,
      "metadata": {},
      "outputs": [
        {
          "name": "stdout",
          "output_type": "stream",
          "text": [
            "Model loaded successfully using Hugging Face's from_pretrained method!\n",
            "Model type: <class 'transformers.models.distilbert.modeling_distilbert.DistilBertForSequenceClassification'>\n",
            "Tokenizer type: <class 'transformers.models.distilbert.tokenization_distilbert.DistilBertTokenizer'>\n",
            "Label encoder classes: ['ham' 'spam']\n",
            "\n",
            "Test prediction with loaded model:\n",
            "Text: URGENT! You have won a prize!\n",
            "Prediction: spam\n",
            "Confidence: 0.9988\n"
          ]
        }
      ],
      "source": [
        "# Test loading the saved model using Hugging Face's from_pretrained method\n",
        "loaded_model = DistilBertForSequenceClassification.from_pretrained(model_path)\n",
        "loaded_tokenizer = DistilBertTokenizer.from_pretrained(model_path)\n",
        "loaded_label_encoder = joblib.load(os.path.join(model_path, 'label_encoder.pkl'))\n",
        "\n",
        "print(\"Model loaded successfully using Hugging Face's from_pretrained method!\")\n",
        "print(f\"Model type: {type(loaded_model)}\")\n",
        "print(f\"Tokenizer type: {type(loaded_tokenizer)}\")\n",
        "print(f\"Label encoder classes: {loaded_label_encoder.classes_}\")\n",
        "\n",
        "# Test prediction with loaded model\n",
        "test_text = \"URGENT! You have won a prize!\"\n",
        "inputs = loaded_tokenizer(\n",
        "    test_text,\n",
        "    truncation=True,\n",
        "    padding=True,\n",
        "    max_length=512,\n",
        "    return_tensors=\"pt\"\n",
        ")\n",
        "\n",
        "loaded_model.eval()\n",
        "with torch.no_grad():\n",
        "    outputs = loaded_model(**inputs)\n",
        "    probabilities = torch.softmax(outputs.logits, dim=1)\n",
        "    predicted_class = torch.argmax(probabilities, dim=1).item()\n",
        "    confidence = probabilities[0][predicted_class].item()\n",
        "    prediction = loaded_label_encoder.inverse_transform([predicted_class])[0]\n",
        "    \n",
        "    print(f\"\\nTest prediction with loaded model:\")\n",
        "    print(f\"Text: {test_text}\")\n",
        "    print(f\"Prediction: {prediction}\")\n",
        "    print(f\"Confidence: {confidence:.4f}\")"
      ]
    },
    {
      "cell_type": "markdown",
      "metadata": {},
      "source": [
        "## 9. Model Directory Structure"
      ]
    },
    {
      "cell_type": "code",
      "execution_count": 16,
      "metadata": {},
      "outputs": [
        {
          "name": "stdout",
          "output_type": "stream",
          "text": [
            "Model directory structure:\n",
            "  config.json (640 bytes)\n",
            "  label_encoder.pkl (539 bytes)\n",
            "  model.safetensors (267,832,560 bytes)\n",
            "  special_tokens_map.json (132 bytes)\n",
            "  tokenizer_config.json (1,305 bytes)\n",
            "  vocab.txt (262,030 bytes)\n"
          ]
        }
      ],
      "source": [
        "# Display the model directory structure\n",
        "import os\n",
        "from pathlib import Path\n",
        "\n",
        "model_dir = Path(model_path)\n",
        "if model_dir.exists():\n",
        "    print(\"Model directory structure:\")\n",
        "    for file_path in model_dir.rglob('*'):\n",
        "        if file_path.is_file():\n",
        "            relative_path = file_path.relative_to(model_dir)\n",
        "            file_size = file_path.stat().st_size\n",
        "            print(f\"  {relative_path} ({file_size:,} bytes)\")\n",
        "else:\n",
        "    print(\"Model directory not found. Please run the training first.\")"
      ]
    }
  ],
  "metadata": {
    "kernelspec": {
      "display_name": "myenv",
      "language": "python",
      "name": "python3"
    },
    "language_info": {
      "codemirror_mode": {
        "name": "ipython",
        "version": 3
      },
      "file_extension": ".py",
      "mimetype": "text/x-python",
      "name": "python",
      "nbconvert_exporter": "python",
      "pygments_lexer": "ipython3",
      "version": "3.10.18"
    }
  },
  "nbformat": 4,
  "nbformat_minor": 4
}
